{
 "cells": [
  {
   "cell_type": "markdown",
   "source": [
    "## Overview\n",
    "\n",
    "In this notebook, we will walk through:\n",
    "1. Loading RAFT datasets\n",
    "2. Creating a classifier using any CausalLM from the HuggingFace Hub\n",
    "3. Generating predictions using that classifier for RAFT test examples."
   ],
   "metadata": {}
  },
  {
   "cell_type": "markdown",
   "source": [
    "## Loading RAFT datasets"
   ],
   "metadata": {}
  },
  {
   "cell_type": "markdown",
   "source": [
    "We'll focus on the ADE corpus V2 dataset in this starter kit, but similar code could be run for all of the datasets in RAFT. To see the possible datasets:"
   ],
   "metadata": {}
  },
  {
   "cell_type": "code",
   "execution_count": 9,
   "source": [
    "import datasets\n",
    "datasets.logging.set_verbosity(datasets.logging.ERROR)\n",
    "\n",
    "\n",
    "datasets.get_dataset_config_names(\"ought/raft\")"
   ],
   "outputs": [
    {
     "output_type": "execute_result",
     "data": {
      "text/plain": [
       "['ade_corpus_v2',\n",
       " 'banking_77',\n",
       " 'terms_of_service',\n",
       " 'tai_safety_research',\n",
       " 'neurips_impact_statement_risks',\n",
       " 'overruling',\n",
       " 'systematic_review_inclusion',\n",
       " 'one_stop_english',\n",
       " 'tweet_eval_hate',\n",
       " 'twitter_complaints',\n",
       " 'semiconductor_org_types']"
      ]
     },
     "metadata": {},
     "execution_count": 9
    }
   ],
   "metadata": {}
  },
  {
   "cell_type": "markdown",
   "source": [
    "Each dataset in RAFT consists of a training set of only 50 labeled examples and an unlabeled test set. All labels have a textual version associated with them. Let's take a look at one of the examples in the training set:"
   ],
   "metadata": {}
  },
  {
   "cell_type": "code",
   "execution_count": 10,
   "source": [
    "DATASET = \"ade_corpus_v2\"\n",
    "\n",
    "train_data = datasets.load_dataset(\"ought/raft\", DATASET, split = \"train\")\n",
    "print(f\"Size of the training set: {len(train_data)}\")\n",
    "\n",
    "#Convert label from int to str\n",
    "first_example = train_data[0]\n",
    "first_example[\"Label\"] = train_data.features[\"Label\"].int2str(first_example[\"Label\"])\n",
    "\n",
    "print(f\"First training example: {first_example}\")\n"
   ],
   "outputs": [
    {
     "output_type": "stream",
     "name": "stdout",
     "text": [
      "Size of the training set: 50\n",
      "First training example: {'Query': 'Is it possible for me to change my PIN number?', 'ID': 0, 'Label': 'change_pin'}\n"
     ]
    }
   ],
   "metadata": {}
  },
  {
   "cell_type": "markdown",
   "source": [
    "Now let's load and take a look at the first example in the unlabeled test set. The label field still exists, but it always contains a 0:"
   ],
   "metadata": {}
  },
  {
   "cell_type": "code",
   "execution_count": 11,
   "source": [
    "test_data = datasets.load_dataset(\"ought/raft\", DATASET, split = \"test\")\n",
    "print(f\"Size of the test set: {len(test_data)}\")\n",
    "\n",
    "print(f\"First test example: {test_data[0]}\")"
   ],
   "outputs": [
    {
     "output_type": "stream",
     "name": "stdout",
     "text": [
      "Size of the test set: 5000\n",
      "First test example: {'Query': 'where did my funds come from?', 'ID': 50, 'Label': 0}\n"
     ]
    }
   ],
   "metadata": {}
  },
  {
   "cell_type": "markdown",
   "source": [
    "## Creating a classifier from the HuggingFace Model Hub"
   ],
   "metadata": {}
  },
  {
   "cell_type": "markdown",
   "source": [
    "We provide a class which uses the same prompt construction method as our GPT-3 baseline, but works with any CausalLM on the HuggingFace Model Hub. The classifier will automatically use a GPU if available. Brief documentation on the arguments for configuring the classifier is provided below."
   ],
   "metadata": {}
  },
  {
   "cell_type": "code",
   "execution_count": 12,
   "source": [
    "from raft_baselines.classifiers import TransformersCausalLMClassifier\n",
    "\n",
    "classifier = TransformersCausalLMClassifier(\n",
    "    model_type=\"distilgpt2\", # the model to use from the HF hub\n",
    "    training_data=train_data, # the training data\n",
    "    num_prompt_training_examples=25, # see raft_predict.py for the number of training examples used on a per-dataset basis in the GPT-3 baselines run.\n",
    "    # Note that it may be better to use fewer training examples and/or shorter instructions with other models with smaller context windows.\n",
    "    add_prefixes=DATASET == \"banking_77\", # set to True when using banking_77 since multiple classes start with the same token\n",
    "    config=DATASET, # for task-specific instructions and field ordering\n",
    "    use_task_specific_instructions=True,\n",
    "    do_semantic_selection=True,\n",
    ")"
   ],
   "outputs": [],
   "metadata": {}
  },
  {
   "cell_type": "markdown",
   "source": [
    "## Generating predictions for RAFT test examples"
   ],
   "metadata": {}
  },
  {
   "cell_type": "markdown",
   "source": [
    "### Example prompt and prediction"
   ],
   "metadata": {}
  },
  {
   "cell_type": "code",
   "execution_count": 13,
   "source": [
    "first_test_example = test_data[0]\n",
    "\n",
    "# delete the 0 Label\n",
    "del first_test_example[\"Label\"]\n",
    "\n",
    "# probabilities for all classes\n",
    "output_probs = classifier.classify(first_test_example, should_print_prompt=True)\n",
    "output_probs"
   ],
   "outputs": [
    {
     "output_type": "stream",
     "name": "stdout",
     "text": [
      "The following is a banking customer service query. Classify the query into one of the 77 categories available.\n",
      "Possible labels:\n",
      "1. Refund_not_showing_up\n",
      "2. activate_my_card\n",
      "3. age_limit\n",
      "4. apple_pay_or_google_pay\n",
      "5. atm_support\n",
      "6. automatic_top_up\n",
      "7. balance_not_updated_after_bank_transfer\n",
      "8. balance_not_updated_after_cheque_or_cash_deposit\n",
      "9. beneficiary_not_allowed\n",
      "10. cancel_transfer\n",
      "11. card_about_to_expire\n",
      "12. card_acceptance\n",
      "13. card_arrival\n",
      "14. card_delivery_estimate\n",
      "15. card_linking\n",
      "16. card_not_working\n",
      "17. card_payment_fee_charged\n",
      "18. card_payment_not_recognised\n",
      "19. card_payment_wrong_exchange_rate\n",
      "20. card_swallowed\n",
      "21. cash_withdrawal_charge\n",
      "22. cash_withdrawal_not_recognised\n",
      "23. change_pin\n",
      "24. compromised_card\n",
      "25. contactless_not_working\n",
      "26. country_support\n",
      "27. declined_card_payment\n",
      "28. declined_cash_withdrawal\n",
      "29. declined_transfer\n",
      "30. direct_debit_payment_not_recognised\n",
      "31. disposable_card_limits\n",
      "32. edit_personal_details\n",
      "33. exchange_charge\n",
      "34. exchange_rate\n",
      "35. exchange_via_app\n",
      "36. extra_charge_on_statement\n",
      "37. failed_transfer\n",
      "38. fiat_currency_support\n",
      "39. get_disposable_virtual_card\n",
      "40. get_physical_card\n",
      "41. getting_spare_card\n",
      "42. getting_virtual_card\n",
      "43. lost_or_stolen_card\n",
      "44. lost_or_stolen_phone\n",
      "45. order_physical_card\n",
      "46. passcode_forgotten\n",
      "47. pending_card_payment\n",
      "48. pending_cash_withdrawal\n",
      "49. pending_top_up\n",
      "50. pending_transfer\n",
      "51. pin_blocked\n",
      "52. receiving_money\n",
      "53. request_refund\n",
      "54. reverted_card_payment?\n",
      "55. supported_cards_and_currencies\n",
      "56. terminate_account\n",
      "57. top_up_by_bank_transfer_charge\n",
      "58. top_up_by_card_charge\n",
      "59. top_up_by_cash_or_cheque\n",
      "60. top_up_failed\n",
      "61. top_up_limits\n",
      "62. top_up_reverted\n",
      "63. topping_up_by_card\n",
      "64. transaction_charged_twice\n",
      "65. transfer_fee_charged\n",
      "66. transfer_into_account\n",
      "67. transfer_not_received_by_recipient\n",
      "68. transfer_timing\n",
      "69. unable_to_verify_identity\n",
      "70. verify_my_identity\n",
      "71. verify_source_of_funds\n",
      "72. verify_top_up\n",
      "73. virtual_card_not_working\n",
      "74. visa_or_mastercard\n",
      "75. why_verify_identity\n",
      "76. wrong_amount_of_cash_received\n",
      "77. wrong_exchange_rate_for_cash_withdrawal\n",
      "\n",
      "Query\n",
      "Label: 29. declined_\n",
      "\n",
      "Query\n",
      "Label: 70. verify_\n",
      "\n",
      "Query\n",
      "Label: 27. declined_\n",
      "\n",
      "Query\n",
      "Label: 60. top_\n",
      "\n",
      "Query\n",
      "Label: 60. top_\n",
      "\n",
      "Query\n",
      "Label: 50. pending_\n",
      "\n",
      "Query\n",
      "Label: 40. get_\n",
      "\n",
      "Query\n",
      "Label: 77. wrong_\n",
      "\n",
      "Query\n",
      "Label: 49. pending_\n",
      "\n",
      "Query\n",
      "Label: 77. wrong_\n",
      "\n",
      "Query\n",
      "Label: 21. cash_\n",
      "\n",
      "Query\n",
      "Label: 75. why_\n",
      "\n",
      "Query\n",
      "Label: 17. card_\n",
      "\n",
      "Query\n",
      "Label: 27. declined_\n",
      "\n",
      "Query\n",
      "Label: 7. balance_\n",
      "\n",
      "Query\n",
      "Label: 54. reverted_\n",
      "\n",
      "Query\n",
      "Label: 9. beneficiary_\n",
      "\n",
      "Query\n",
      "Label: 30. direct_\n",
      "\n",
      "Query\n",
      "Label: 50. pending_\n",
      "\n",
      "Query\n",
      "Label: 36. extra_\n",
      "\n",
      "Query\n",
      "Label: 36. extra_\n",
      "\n",
      "Query\n",
      "Label: 22. cash_\n",
      "\n",
      "Query\n",
      "Label: 76. wrong_\n",
      "\n",
      "Query\n",
      "Label: 8. balance_\n",
      "\n",
      "Query\n",
      "Label: 71. verify_\n",
      "\n",
      "Query: where did my funds come from?\n",
      "Label:\n"
     ]
    },
    {
     "output_type": "execute_result",
     "data": {
      "text/plain": [
       "{'Refund_not_showing_up': 0.0070044743,\n",
       " 'activate_my_card': 0.0343347,\n",
       " 'age_limit': 0.002957408,\n",
       " 'apple_pay_or_google_pay': 0.001034065,\n",
       " 'atm_support': 0.00079292984,\n",
       " 'automatic_top_up': 0.001262399,\n",
       " 'balance_not_updated_after_bank_transfer': 0.027695943,\n",
       " 'balance_not_updated_after_cheque_or_cash_deposit': 0.031180397,\n",
       " 'beneficiary_not_allowed': 0.0012036111,\n",
       " 'cancel_transfer': 0.0009232421,\n",
       " 'card_about_to_expire': 0.0002955884,\n",
       " 'card_acceptance': 0.0018507269,\n",
       " 'card_arrival': 0.00034799604,\n",
       " 'card_delivery_estimate': 0.00016433404,\n",
       " 'card_linking': 8.8245e-05,\n",
       " 'card_not_working': 0.000100416306,\n",
       " 'card_payment_fee_charged': 0.00019868347,\n",
       " 'card_payment_not_recognised': 0.00017375551,\n",
       " 'card_payment_wrong_exchange_rate': 5.9682e-05,\n",
       " 'card_swallowed': 0.00053263427,\n",
       " 'cash_withdrawal_charge': 0.0009322987,\n",
       " 'cash_withdrawal_not_recognised': 0.018336443,\n",
       " 'change_pin': 0.0025327236,\n",
       " 'compromised_card': 0.0008759908,\n",
       " 'contactless_not_working': 0.000335608,\n",
       " 'country_support': 0.00016146444,\n",
       " 'declined_card_payment': 0.0012389601,\n",
       " 'declined_cash_withdrawal': 0.00611053,\n",
       " 'declined_transfer': 0.00033132877,\n",
       " 'direct_debit_payment_not_recognised': 0.00040329457,\n",
       " 'disposable_card_limits': 0.00017214047,\n",
       " 'edit_personal_details': 0.0039117164,\n",
       " 'exchange_charge': 0.0008202313,\n",
       " 'exchange_rate': 0.00011357712,\n",
       " 'exchange_via_app': 0.00015161007,\n",
       " 'extra_charge_on_statement': 0.00033546978,\n",
       " 'failed_transfer': 0.0010486996,\n",
       " 'fiat_currency_support': 0.002611208,\n",
       " 'get_disposable_virtual_card': 0.00029058417,\n",
       " 'get_physical_card': 0.00056804274,\n",
       " 'getting_spare_card': 0.000332519,\n",
       " 'getting_virtual_card': 0.007201118,\n",
       " 'lost_or_stolen_card': 0.0014083293,\n",
       " 'lost_or_stolen_phone': 0.00029871694,\n",
       " 'order_physical_card': 0.00024911936,\n",
       " 'passcode_forgotten': 0.00022651792,\n",
       " 'pending_card_payment': 0.0019629993,\n",
       " 'pending_cash_withdrawal': 0.0031284748,\n",
       " 'pending_top_up': 0.00019276612,\n",
       " 'pending_transfer': 0.0007551397,\n",
       " 'pin_blocked': 0.00054767303,\n",
       " 'receiving_money': 0.012006722,\n",
       " 'request_refund': 0.0023079282,\n",
       " 'reverted_card_payment?': 0.00032905402,\n",
       " 'supported_cards_and_currencies': 0.00033422312,\n",
       " 'terminate_account': 0.00037006417,\n",
       " 'top_up_by_bank_transfer_charge': 0.0012481725,\n",
       " 'top_up_by_card_charge': 0.0016410546,\n",
       " 'top_up_by_cash_or_cheque': 0.00019247073,\n",
       " 'top_up_failed': 0.0004979131,\n",
       " 'top_up_limits': 0.0006924504,\n",
       " 'top_up_reverted': 0.01323034,\n",
       " 'topping_up_by_card': 0.003353177,\n",
       " 'transaction_charged_twice': 0.0016730898,\n",
       " 'transfer_fee_charged': 0.0007966013,\n",
       " 'transfer_into_account': 0.001302432,\n",
       " 'transfer_not_received_by_recipient': 0.005547319,\n",
       " 'transfer_timing': 0.008788932,\n",
       " 'unable_to_verify_identity': 0.0013015977,\n",
       " 'verify_my_identity': 0.009743541,\n",
       " 'verify_source_of_funds': 0.019994961,\n",
       " 'verify_top_up': 0.5030687,\n",
       " 'virtual_card_not_working': 0.10150562,\n",
       " 'visa_or_mastercard': 0.019051762,\n",
       " 'why_verify_identity': 0.025332274,\n",
       " 'wrong_amount_of_cash_received': 0.024653494,\n",
       " 'wrong_exchange_rate_for_cash_withdrawal': 0.07124968}"
      ]
     },
     "metadata": {},
     "execution_count": 13
    }
   ],
   "metadata": {}
  },
  {
   "cell_type": "markdown",
   "source": [
    "### Example prediction df for first N test examples"
   ],
   "metadata": {}
  },
  {
   "cell_type": "markdown",
   "source": [
    "The following generates a CSV with predictions for the first N test examples in the format required for submission (ID, Label). See further submission instructions [here](https://huggingface.co/datasets/ought/raft-submission).\n",
    "\n",
    "Note that this is expected to generate predictions of all \"Not ADE-related\" for the 10 test examples with the code as written; few-shot classification is pretty hard!"
   ],
   "metadata": {}
  },
  {
   "cell_type": "code",
   "execution_count": 14,
   "source": [
    "import pandas as pd\n",
    "\n",
    "N_TEST = 10\n",
    "test_examples_to_predict = test_data.select(range(N_TEST))\n",
    "\n",
    "def predict_one(clf, test_example):\n",
    "    del test_example[\"Label\"]    \n",
    "    output_probs = clf.classify(example)\n",
    "    output_label = max(output_probs.items(), key=lambda kv_pair: kv_pair[1])[0]\n",
    "    return output_label\n",
    "    \n",
    "result_df = pd.DataFrame(columns=[\"ID\", \"Label\"]).astype({\"ID\": int, \"Label\": str})\n",
    "\n",
    "for example in test_examples_to_predict:\n",
    "    result_df = result_df.append({\"ID\": example[\"ID\"], \"Label\": predict_one(classifier, example)}, ignore_index=True)\n",
    "\n",
    "result_df.to_csv(\"../data/example_predictions.csv\", index=False)"
   ],
   "outputs": [],
   "metadata": {}
  }
 ],
 "metadata": {
  "orig_nbformat": 4,
  "language_info": {
   "name": "python",
   "version": "3.8.11",
   "mimetype": "text/x-python",
   "codemirror_mode": {
    "name": "ipython",
    "version": 3
   },
   "pygments_lexer": "ipython3",
   "nbconvert_exporter": "python",
   "file_extension": ".py"
  },
  "kernelspec": {
   "name": "python3",
   "display_name": "Python 3.8.11 64-bit ('raft-baselines': conda)"
  },
  "interpreter": {
   "hash": "74118a50156796984ad06a64d88792c5d24753e439e2427f4985fcb9d71e695f"
  }
 },
 "nbformat": 4,
 "nbformat_minor": 2
}