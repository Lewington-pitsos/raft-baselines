{
 "cells": [
  {
   "cell_type": "markdown",
   "metadata": {},
   "source": [
    "## Getting started with the RAFT benchmark\n",
    "\n",
    "In this notebook, we will walk through:\n",
    "\n",
    "1. Loading the tasks from the [RAFT dataset](https://huggingface.co/datasets/ought/raft)\n",
    "2. Creating a classifier using any CausalLM from the [Hugging Face Hub](https://huggingface.co/models)\n",
    "3. Generating predictions using that classifier for RAFT test examples\n",
    "\n",
    "This should provide you with the steps needed to make a submission to the [RAFT leaderboard](https://huggingface.co/spaces/ought/raft-leaderboard)!"
   ]
  },
  {
   "cell_type": "markdown",
   "metadata": {},
   "source": [
    "## Setup\n",
    "\n",
    "We'll set the logging level of the `datasets` library to disable some warnings that can clutter the notebook:"
   ]
  },
  {
   "cell_type": "code",
   "execution_count": 1,
   "metadata": {},
   "outputs": [],
   "source": [
    "import datasets\n",
    "\n",
    "datasets.logging.set_verbosity_error()"
   ]
  },
  {
   "cell_type": "markdown",
   "metadata": {},
   "source": [
    "## Loading RAFT datasets"
   ]
  },
  {
   "cell_type": "markdown",
   "metadata": {},
   "source": [
    "We'll focus on the ADE corpus V2 task in this starter kit, but similar code could be run for all of the tasks in RAFT. To see the possible tasks, we can use the following function from `datasets`:"
   ]
  },
  {
   "cell_type": "code",
   "execution_count": 2,
   "metadata": {},
   "outputs": [
    {
     "data": {
      "text/plain": [
       "['ade_corpus_v2',\n",
       " 'banking_77',\n",
       " 'terms_of_service',\n",
       " 'tai_safety_research',\n",
       " 'neurips_impact_statement_risks',\n",
       " 'overruling',\n",
       " 'systematic_review_inclusion',\n",
       " 'one_stop_english',\n",
       " 'tweet_eval_hate',\n",
       " 'twitter_complaints',\n",
       " 'semiconductor_org_types']"
      ]
     },
     "execution_count": 2,
     "metadata": {},
     "output_type": "execute_result"
    }
   ],
   "source": [
    "from datasets import get_dataset_config_names\n",
    "\n",
    "RAFT_TASKS = get_dataset_config_names(\"ought/raft\")\n",
    "RAFT_TASKS"
   ]
  },
  {
   "cell_type": "markdown",
   "metadata": {},
   "source": [
    "Each task in RAFT consists of a training set of only **_50 labeled examples_** and an unlabeled test set. All labels have a textual version associated with them. Let's load corpus associated with the `ade_corpus_v2` task:"
   ]
  },
  {
   "cell_type": "code",
   "execution_count": 18,
   "metadata": {},
   "outputs": [
    {
     "data": {
      "application/vnd.jupyter.widget-view+json": {
       "model_id": "7f2304bde94547b3a128622e35d666b4",
       "version_major": 2,
       "version_minor": 0
      },
      "text/plain": [
       "  0%|          | 0/2 [00:00<?, ?it/s]"
      ]
     },
     "metadata": {},
     "output_type": "display_data"
    },
    {
     "data": {
      "text/plain": [
       "DatasetDict({\n",
       "    train: Dataset({\n",
       "        features: ['Sentence', 'ID', 'Label'],\n",
       "        num_rows: 50\n",
       "    })\n",
       "    test: Dataset({\n",
       "        features: ['Sentence', 'ID', 'Label'],\n",
       "        num_rows: 5000\n",
       "    })\n",
       "})"
      ]
     },
     "execution_count": 18,
     "metadata": {},
     "output_type": "execute_result"
    }
   ],
   "source": [
    "from datasets import load_dataset\n",
    "\n",
    "TASK = \"ade_corpus_v2\"\n",
    "raft_dataset = load_dataset(\"ought/raft\", name=TASK)\n",
    "raft_dataset"
   ]
  },
  {
   "cell_type": "markdown",
   "metadata": {},
   "source": [
    "The `raft_dataset` object itself is a [`DatasetDict`](https://huggingface.co/docs/datasets/package_reference/main_classes.html#datasetdict), which contains one key for the training and test sets. In this task we can see we have 50 labelled examples to work with and 5,000 examples on the test set we need to generate predictions for. To access an example, you need to specify the name of the split and then the index as follows:"
   ]
  },
  {
   "cell_type": "code",
   "execution_count": 4,
   "metadata": {},
   "outputs": [
    {
     "data": {
      "text/plain": [
       "{'Sentence': 'No regional side effects were noted.', 'ID': 0, 'Label': 2}"
      ]
     },
     "execution_count": 4,
     "metadata": {},
     "output_type": "execute_result"
    }
   ],
   "source": [
    "raft_dataset[\"train\"][0]"
   ]
  },
  {
   "cell_type": "markdown",
   "metadata": {},
   "source": [
    "Here we can see that each example is assigned a label ID which denotes the class in this particular tasks. Let's check how many classes we have in the training set:"
   ]
  },
  {
   "cell_type": "code",
   "execution_count": 12,
   "metadata": {},
   "outputs": [
    {
     "data": {
      "text/plain": [
       "[2, 1]"
      ]
     },
     "execution_count": 12,
     "metadata": {},
     "output_type": "execute_result"
    }
   ],
   "source": [
    "label_ids = raft_dataset[\"train\"].unique(\"Label\")\n",
    "label_ids"
   ]
  },
  {
   "cell_type": "markdown",
   "metadata": {},
   "source": [
    "Okay, this indicates that `ade_corpus_v2` is a binary classification task and we can extract the human-readable label names as follows:"
   ]
  },
  {
   "cell_type": "code",
   "execution_count": 15,
   "metadata": {},
   "outputs": [
    {
     "data": {
      "text/plain": [
       "{2: 'not ADE-related', 1: 'ADE-related'}"
      ]
     },
     "execution_count": 15,
     "metadata": {},
     "output_type": "execute_result"
    }
   ],
   "source": [
    "features = raft_dataset[\"train\"].features[\"Label\"]\n",
    "id2label = {idx : features.int2str(idx) for idx in label_ids}\n",
    "id2label"
   ]
  },
  {
   "cell_type": "markdown",
   "metadata": {},
   "source": [
    "Note that the test set also has a `Label` entry, but it is zero to denote a dummy label (this is what your model needs to predict!):"
   ]
  },
  {
   "cell_type": "code",
   "execution_count": 16,
   "metadata": {},
   "outputs": [
    {
     "data": {
      "text/plain": [
       "[0]"
      ]
     },
     "execution_count": 16,
     "metadata": {},
     "output_type": "execute_result"
    }
   ],
   "source": [
    "raft_dataset[\"test\"].unique(\"Label\")"
   ]
  },
  {
   "cell_type": "markdown",
   "metadata": {},
   "source": [
    "To get a broader sense of what kind of data we are dealing with, we can use the following function to randomly sample from the corpus and display the results as a table:"
   ]
  },
  {
   "cell_type": "code",
   "execution_count": 17,
   "metadata": {},
   "outputs": [
    {
     "data": {
      "text/html": [
       "<table border=\"1\" class=\"dataframe\">\n",
       "  <thead>\n",
       "    <tr style=\"text-align: right;\">\n",
       "      <th></th>\n",
       "      <th>Sentence</th>\n",
       "      <th>ID</th>\n",
       "      <th>Label</th>\n",
       "    </tr>\n",
       "  </thead>\n",
       "  <tbody>\n",
       "    <tr>\n",
       "      <th>0</th>\n",
       "      <td>Several hypersensitivity reactions to cloxacillin have been reported, although IgE-mediated allergic reactions to the drug are rare and there is little information about possible tolerance to other semisynthetic penicillins or cephalosporins in patients with cloxacillin allergy.</td>\n",
       "      <td>39</td>\n",
       "      <td>ADE-related</td>\n",
       "    </tr>\n",
       "    <tr>\n",
       "      <th>1</th>\n",
       "      <td>Best-corrected visual acuity measurements were performed at every visit.</td>\n",
       "      <td>33</td>\n",
       "      <td>not ADE-related</td>\n",
       "    </tr>\n",
       "    <tr>\n",
       "      <th>2</th>\n",
       "      <td>A closer look at septic shock.</td>\n",
       "      <td>20</td>\n",
       "      <td>not ADE-related</td>\n",
       "    </tr>\n",
       "    <tr>\n",
       "      <th>3</th>\n",
       "      <td>Considerable improvement of myasthenic symptoms was seen in all patients within 3-6 months after the initiation of this therapy.</td>\n",
       "      <td>34</td>\n",
       "      <td>not ADE-related</td>\n",
       "    </tr>\n",
       "    <tr>\n",
       "      <th>4</th>\n",
       "      <td>No abnormalities were identified on review of collection and processing records.</td>\n",
       "      <td>25</td>\n",
       "      <td>not ADE-related</td>\n",
       "    </tr>\n",
       "    <tr>\n",
       "      <th>5</th>\n",
       "      <td>We report a case of long lasting respiratory depression after intravenous administration of morphine to a 7 year old girl with haemolytic uraemic syndrome.</td>\n",
       "      <td>32</td>\n",
       "      <td>ADE-related</td>\n",
       "    </tr>\n",
       "    <tr>\n",
       "      <th>6</th>\n",
       "      <td>We describe the case of a 10-year-old girl with two epileptic seizures and subcontinuous spike-waves during sleep, who presented unusual side-effects related to clobazam (CLB) monotherapy.</td>\n",
       "      <td>1</td>\n",
       "      <td>not ADE-related</td>\n",
       "    </tr>\n",
       "    <tr>\n",
       "      <th>7</th>\n",
       "      <td>IMPLICATIONS: Dexmedetomidine, an alpha(2)-adrenoceptor agonist, is indicated for sedating patients on mechanical ventilation.</td>\n",
       "      <td>43</td>\n",
       "      <td>not ADE-related</td>\n",
       "    </tr>\n",
       "    <tr>\n",
       "      <th>8</th>\n",
       "      <td>The cases are important in documenting that drug-induced dystonias do occur in patients with dementia, that risperidone appears to have contributed to dystonia among elderly patients, and that the categorization of dystonic reactions needs further clarification.</td>\n",
       "      <td>24</td>\n",
       "      <td>ADE-related</td>\n",
       "    </tr>\n",
       "    <tr>\n",
       "      <th>9</th>\n",
       "      <td>OBJECTIVE: To describe onset of syndrome of inappropriate antidiuretic hormone (SIADH) associated with vinorelbine therapy for advanced breast cancer.</td>\n",
       "      <td>9</td>\n",
       "      <td>ADE-related</td>\n",
       "    </tr>\n",
       "  </tbody>\n",
       "</table>"
      ],
      "text/plain": [
       "<IPython.core.display.HTML object>"
      ]
     },
     "metadata": {},
     "output_type": "display_data"
    }
   ],
   "source": [
    "import random\n",
    "import pandas as pd\n",
    "from IPython.display import display, HTML\n",
    "\n",
    "def show_random_elements(dataset, num_examples=10):\n",
    "    assert num_examples <= len(dataset), \"Can't pick more elements than there are in the dataset.\"\n",
    "    picks = []\n",
    "    for _ in range(num_examples):\n",
    "        pick = random.randint(0, len(dataset)-1)\n",
    "        while pick in picks:\n",
    "            pick = random.randint(0, len(dataset)-1)\n",
    "        picks.append(pick)\n",
    "    \n",
    "    df = pd.DataFrame(dataset[picks])\n",
    "    for column, typ in dataset.features.items():\n",
    "        if isinstance(typ, datasets.ClassLabel):\n",
    "            df[column] = df[column].transform(lambda i: typ.names[i])\n",
    "    display(HTML(df.to_html()))\n",
    "    \n",
    "show_random_elements(raft_dataset[\"train\"])"
   ]
  },
  {
   "cell_type": "markdown",
   "metadata": {},
   "source": [
    "## Creating a classifier from the Hugging Face Model Hub"
   ]
  },
  {
   "cell_type": "markdown",
   "metadata": {},
   "source": [
    "We provide a class which uses the same prompt construction method as our GPT-3 baseline, but works with any CausalLM on the [HuggingFace Model Hub](https://huggingface.co/models?pipeline_tag=text-generation&sort=downloads). The classifier will automatically use a GPU if available. Brief documentation on the arguments for configuring the classifier is provided below.:"
   ]
  },
  {
   "cell_type": "code",
   "execution_count": 19,
   "metadata": {},
   "outputs": [],
   "source": [
    "from raft_baselines.classifiers import TransformersCausalLMClassifier\n",
    "\n",
    "classifier = TransformersCausalLMClassifier(\n",
    "    model_type=\"distilgpt2\",             # The model to use from the HF hub\n",
    "    training_data=train_data,            # The training data\n",
    "    num_prompt_training_examples=25,     # See raft_predict.py for the number of training examples used on a per-dataset basis in the GPT-3 baselines run.\n",
    "                                         # Note that it may be better to use fewer training examples and/or shorter instructions with other models with smaller context windows.\n",
    "    add_prefixes=(TASK==\"banking_77\"),   # Set to True when using banking_77 since multiple classes start with the same token\n",
    "    config=TASK,                         # For task-specific instructions and field ordering\n",
    "    use_task_specific_instructions=True,\n",
    "    do_semantic_selection=True,\n",
    ")"
   ]
  },
  {
   "cell_type": "markdown",
   "metadata": {},
   "source": [
    "## Generating predictions for RAFT test examples"
   ]
  },
  {
   "cell_type": "markdown",
   "metadata": {},
   "source": [
    "In order to generate predictions on the test set, we need to provide the model with an appropriate prompt with the instructions. Let's take a look at how this works on a single example from the test set."
   ]
  },
  {
   "cell_type": "markdown",
   "metadata": {},
   "source": [
    "### Example prompt and prediction"
   ]
  },
  {
   "cell_type": "markdown",
   "metadata": {},
   "source": [
    "The `TransformersCausalLMClassifier` has a `classify` function that will automatically generate the predicted probabilites from the model. We'll set `should_print_prompt=True` so that we can see which prompt is being used to instruct the model:"
   ]
  },
  {
   "cell_type": "code",
   "execution_count": 24,
   "metadata": {},
   "outputs": [
    {
     "name": "stdout",
     "output_type": "stream",
     "text": [
      "Label the sentence based on whether it is related to an adverse drug effect (ADE). Details are described below:\n",
      "Drugs: Names of drugs and chemicals that include brand names, trivial names, abbreviations and systematic names were annotated. Mentions of drugs or chemicals should strictly be in a therapeutic context. This category does not include the names of metabolites, reaction byproducts, or hospital chemicals (e.g. surgical equipment disinfectants).\n",
      "Adverse effect: Mentions of adverse effects include signs, symptoms, diseases, disorders, acquired abnormalities, deficiencies, organ damage or death that strictly occur as a consequence of drug intake.\n",
      "Possible labels:\n",
      "1. ADE-related\n",
      "2. not ADE-related\n",
      "\n",
      "Sentence: METHODS: We identified three patients who developed skin necrosis and determined any factors, which\n",
      "Label: not ADE-related\n",
      "\n",
      "Sentence: In 1991 the patient were found to be seropositive for HCV antibodies as detected by\n",
      "Label: not ADE-related\n",
      "\n",
      "Sentence: No regional side effects were noted.\n",
      "Label: not ADE-related\n",
      "\n",
      "Sentence: Treatment of silastic catheter-induced central vein septic thrombophlebitis\n",
      "Label: not ADE-related\n",
      "\n",
      "Sentence: We describe a patient who developed HUS after treatment with mitomycin C (total dose 144 mg\n",
      "Label: ADE-related\n",
      "\n",
      "Sentence: These cases were considered unusual in light of the short delay of their onset after initiation of immunosupp\n",
      "Label: ADE-related\n",
      "\n",
      "Sentence: The cases are important in documenting that drug-induced dystonias do occur in patients with dementia,\n",
      "Label: ADE-related\n",
      "\n",
      "Sentence: CONCLUSIONS: These results suggest that clozapine may cause TD; however, the prevalence\n",
      "Label: ADE-related\n",
      "\n",
      "Sentence: A patient with psoriasis is described who had an abnormal response to the glucose tolerance test without other\n",
      "Label: ADE-related\n",
      "\n",
      "Sentence: A closer look at septic shock.\n",
      "Label: not ADE-related\n",
      "\n",
      "Sentence: NEH must be considered in lupus patients receiving cytotoxic agents to avoid inappropriate use\n",
      "Label: not ADE-related\n",
      "\n",
      "Sentence: The mechanism by which sunitinib induces gynaecomastia is thought to be associated\n",
      "Label: ADE-related\n",
      "\n",
      "Sentence: Sotalol-induced bradycardia reversed by glucagon.\n",
      "Label: ADE-related\n",
      "\n",
      "Sentence: CONCLUSION: Pancreatic enzyme intolerance, although rare, would be a major problem in\n",
      "Label: not ADE-related\n",
      "\n",
      "Sentence: Of the 16 patients, including the 1 reported here, only 3 displayed significant shortening of the\n",
      "Label: not ADE-related\n",
      "\n",
      "Sentence: IMPLICATIONS: Dexmedetomidine, an alpha(2)-adrenoceptor\n",
      "Label: not ADE-related\n",
      "\n",
      "Sentence: MRI has a high sensitivity and specificity in the diagnosis of osteonecrosis and should be used\n",
      "Label: not ADE-related\n",
      "\n",
      "Sentence: The INR should be monitored more frequently when bosentan is initiated, adjusted, or discontinued\n",
      "Label: not ADE-related\n",
      "\n",
      "Sentence: Macular infarction after endophthalmitis treated with vitrectomy and intravit\n",
      "Label: ADE-related\n",
      "\n",
      "Sentence: Early detection of these cases has practical importance since the identification and elimination of the causative drug is\n",
      "Label: not ADE-related\n",
      "\n",
      "Sentence: Remarkable findings on initial examination were facial grimacing, flexure posturing of both upper extrem\n",
      "Label: not ADE-related\n",
      "\n",
      "Sentence: This report demonstrates the increased risk of complicated varicella associated with the use of corticoster\n",
      "Label: not ADE-related\n",
      "\n",
      "Sentence: These results indicate that the hyponatremia in this case was due to SIADH\n",
      "Label: not ADE-related\n",
      "\n",
      "Sentence: Best-corrected visual acuity measurements were performed at every visit.\n",
      "Label: not ADE-related\n",
      "\n",
      "Sentence: OBJECTIVE: To describe onset of syndrome of inappropriate antidiuretic hormone (SIADH\n",
      "Label: ADE-related\n",
      "\n",
      "Sentence: CONCLUSIONS: SD-OCT and AO detected abnormalities that correlate topographically with visual field loss from hydroxychloroquine toxicity as demonstrated by HVF 10-2 and may be useful in the detection of subclinical abnormalities that precede symptoms or objective visual field loss.\n",
      "Label:\n"
     ]
    },
    {
     "data": {
      "text/plain": [
       "{'ADE-related': 0.30973935, 'not ADE-related': 0.6902607}"
      ]
     },
     "execution_count": 24,
     "metadata": {},
     "output_type": "execute_result"
    }
   ],
   "source": [
    "test_dataset = raft_dataset[\"test\"]\n",
    "first_test_example = test_dataset[0]\n",
    "\n",
    "# delete the 0 Label\n",
    "del first_test_example[\"Label\"]\n",
    "\n",
    "# probabilities for all classes\n",
    "output_probs = classifier.classify(first_test_example, should_print_prompt=True)\n",
    "output_probs"
   ]
  },
  {
   "cell_type": "markdown",
   "metadata": {},
   "source": [
    "In this example we can see the model predicts that the example is not related to an adverse drug effect. We can use this technique to generate predictions across the whole test set! Let's take a look."
   ]
  },
  {
   "cell_type": "markdown",
   "metadata": {},
   "source": [
    "### Creating a submission file of predictions"
   ]
  },
  {
   "cell_type": "markdown",
   "metadata": {},
   "source": [
    "To submit to the RAFT leaderboard, you'll need to provide a CSV file of predictions on the test set for each task (see [here](https://huggingface.co/datasets/ought/raft-submission) for detailed instructions).  The following code snippet generates a CSV with predictions for the first $N$ test examples in the format required for submission $(ID, Label)$. \n",
    "\n",
    "Note that this is expected to generate predictions of all \"Not ADE-related\" for the 10 test examples with the code as written; few-shot classification is pretty hard!"
   ]
  },
  {
   "cell_type": "code",
   "execution_count": 28,
   "metadata": {},
   "outputs": [
    {
     "data": {
      "text/html": [
       "<div>\n",
       "<style scoped>\n",
       "    .dataframe tbody tr th:only-of-type {\n",
       "        vertical-align: middle;\n",
       "    }\n",
       "\n",
       "    .dataframe tbody tr th {\n",
       "        vertical-align: top;\n",
       "    }\n",
       "\n",
       "    .dataframe thead th {\n",
       "        text-align: right;\n",
       "    }\n",
       "</style>\n",
       "<table border=\"1\" class=\"dataframe\">\n",
       "  <thead>\n",
       "    <tr style=\"text-align: right;\">\n",
       "      <th></th>\n",
       "      <th>ID</th>\n",
       "      <th>Label</th>\n",
       "    </tr>\n",
       "  </thead>\n",
       "  <tbody>\n",
       "    <tr>\n",
       "      <th>0</th>\n",
       "      <td>50</td>\n",
       "      <td>not ADE-related</td>\n",
       "    </tr>\n",
       "    <tr>\n",
       "      <th>1</th>\n",
       "      <td>51</td>\n",
       "      <td>not ADE-related</td>\n",
       "    </tr>\n",
       "    <tr>\n",
       "      <th>2</th>\n",
       "      <td>52</td>\n",
       "      <td>not ADE-related</td>\n",
       "    </tr>\n",
       "    <tr>\n",
       "      <th>3</th>\n",
       "      <td>53</td>\n",
       "      <td>not ADE-related</td>\n",
       "    </tr>\n",
       "    <tr>\n",
       "      <th>4</th>\n",
       "      <td>54</td>\n",
       "      <td>not ADE-related</td>\n",
       "    </tr>\n",
       "    <tr>\n",
       "      <th>5</th>\n",
       "      <td>55</td>\n",
       "      <td>not ADE-related</td>\n",
       "    </tr>\n",
       "    <tr>\n",
       "      <th>6</th>\n",
       "      <td>56</td>\n",
       "      <td>not ADE-related</td>\n",
       "    </tr>\n",
       "    <tr>\n",
       "      <th>7</th>\n",
       "      <td>57</td>\n",
       "      <td>not ADE-related</td>\n",
       "    </tr>\n",
       "    <tr>\n",
       "      <th>8</th>\n",
       "      <td>58</td>\n",
       "      <td>not ADE-related</td>\n",
       "    </tr>\n",
       "    <tr>\n",
       "      <th>9</th>\n",
       "      <td>59</td>\n",
       "      <td>not ADE-related</td>\n",
       "    </tr>\n",
       "  </tbody>\n",
       "</table>\n",
       "</div>"
      ],
      "text/plain": [
       "   ID            Label\n",
       "0  50  not ADE-related\n",
       "1  51  not ADE-related\n",
       "2  52  not ADE-related\n",
       "3  53  not ADE-related\n",
       "4  54  not ADE-related\n",
       "5  55  not ADE-related\n",
       "6  56  not ADE-related\n",
       "7  57  not ADE-related\n",
       "8  58  not ADE-related\n",
       "9  59  not ADE-related"
      ]
     },
     "execution_count": 28,
     "metadata": {},
     "output_type": "execute_result"
    }
   ],
   "source": [
    "# Increase this to len(test_dataset) to generate predictions over the full test set\n",
    "N_TEST = 10\n",
    "test_examples_to_predict = test_dataset.select(range(N_TEST))\n",
    "\n",
    "def predict_one(clf, test_example):\n",
    "    del test_example[\"Label\"]    \n",
    "    output_probs = clf.classify(example)\n",
    "    output_label = max(output_probs.items(), key=lambda kv_pair: kv_pair[1])[0]\n",
    "    return output_label\n",
    "\n",
    "data = []\n",
    "for example in test_examples_to_predict:\n",
    "    data.append({\"ID\": example[\"ID\"], \"Label\": predict_one(classifier, example)})\n",
    "    \n",
    "result_df = pd.DataFrame(data=data, columns=[\"ID\", \"Label\"]).astype({\"ID\": int, \"Label\": str})   \n",
    "result_df"
   ]
  },
  {
   "cell_type": "markdown",
   "metadata": {},
   "source": [
    "Note that the `ID` column starts from index 50 since we have IDs 0-49 in the training set. The final step is to save the DataFrame as a CSV file and build out the rest of your submission:"
   ]
  },
  {
   "cell_type": "code",
   "execution_count": 29,
   "metadata": {},
   "outputs": [],
   "source": [
    "result_df.to_csv(\"../data/example_predictions.csv\", index=False)"
   ]
  },
  {
   "cell_type": "markdown",
   "metadata": {},
   "source": [
    "Good luck with the rest of the benchmark!"
   ]
  },
  {
   "cell_type": "code",
   "execution_count": null,
   "metadata": {},
   "outputs": [],
   "source": []
  }
 ],
 "metadata": {
  "interpreter": {
   "hash": "74118a50156796984ad06a64d88792c5d24753e439e2427f4985fcb9d71e695f"
  },
  "kernelspec": {
   "display_name": "Python 3 (ipykernel)",
   "language": "python",
   "name": "python3"
  },
  "language_info": {
   "codemirror_mode": {
    "name": "ipython",
    "version": 3
   },
   "file_extension": ".py",
   "mimetype": "text/x-python",
   "name": "python",
   "nbconvert_exporter": "python",
   "pygments_lexer": "ipython3",
   "version": "3.8.11"
  }
 },
 "nbformat": 4,
 "nbformat_minor": 4
}
